{
 "cells": [
  {
   "cell_type": "markdown",
   "id": "9236e244-0490-4d06-a2a9-845893fb5017",
   "metadata": {},
   "source": [
    "# notebook_that_does_something_super_cool.ipynb"
   ]
  },
  {
   "cell_type": "markdown",
   "id": "a6c1f3cc-bdf2-43bb-bf32-c7e980b0781f",
   "metadata": {},
   "source": [
    "TEST\n"
   ]
  },
  {
   "cell_type": "code",
   "execution_count": 2,
   "id": "6c056430-c6df-4b2c-abf3-991135934b02",
   "metadata": {},
   "outputs": [
    {
     "ename": "NameError",
     "evalue": "name 'setqzefzqef' is not defined",
     "output_type": "error",
     "traceback": [
      "\u001b[0;31m---------------------------------------------------------------------------\u001b[0m",
      "\u001b[0;31mNameError\u001b[0m                                 Traceback (most recent call last)",
      "Cell \u001b[0;32mIn[2], line 1\u001b[0m\n\u001b[0;32m----> 1\u001b[0m \u001b[43msetqzefzqef\u001b[49m\n",
      "\u001b[0;31mNameError\u001b[0m: name 'setqzefzqef' is not defined"
     ]
    }
   ],
   "source": [
    "setqzefzqef"
   ]
  }
 ],
 "metadata": {
  "kernelspec": {
   "display_name": "Python 3 (ipykernel)",
   "language": "python",
   "name": "python3"
  },
  "language_info": {
   "codemirror_mode": {
    "name": "ipython",
    "version": 3
   },
   "file_extension": ".py",
   "mimetype": "text/x-python",
   "name": "python",
   "nbconvert_exporter": "python",
   "pygments_lexer": "ipython3",
   "version": "3.12.8"
  }
 },
 "nbformat": 4,
 "nbformat_minor": 5
}
