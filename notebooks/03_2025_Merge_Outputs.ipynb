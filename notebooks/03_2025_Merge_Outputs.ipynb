{
 "cells": [
  {
   "cell_type": "code",
   "execution_count": 6,
   "id": "fdfef4a2-7780-486d-bd4c-ab6469805e53",
   "metadata": {},
   "outputs": [],
   "source": [
    "import xarray as xr\n",
    "import glob"
   ]
  },
  {
   "cell_type": "code",
   "execution_count": 10,
   "id": "c2d6d779-a33c-4f1a-8124-c2c41fb3f416",
   "metadata": {},
   "outputs": [],
   "source": [
    "# Function to calculate monthly averages and merge them into a single file\n",
    "def merge_and_average_nc4_files(file_pattern, output_filename):\n",
    "    # Retrieve all files matching the pattern (assuming files are sorted correctly by month)\n",
    "    files = sorted(glob.glob(file_pattern))  \n",
    "    if not files:\n",
    "        print(f\"No files found for {file_pattern}\")\n",
    "        return\n",
    "    \n",
    "    # Open the files using xarray and combine them along the time dimension\n",
    "    ds = xr.open_mfdataset(files, combine='by_coords')\n",
    "\n",
    "    # Calculate the mean along the 'time' dimension (this averages over the 12 months)\n",
    "    ds_mean = ds.mean(dim='time')\n",
    "\n",
    "    # Save the averaged dataset into the output file\n",
    "    ds_mean.to_netcdf(output_filename)  \n",
    "    ds.close()  # Close the original dataset\n",
    "    ds_mean.close()  # Close the averaged dataset\n",
    "    print(f\"File created: {output_filename}\")"
   ]
  },
  {
   "cell_type": "code",
   "execution_count": 11,
   "id": "1f76c093-994e-49d0-9331-16d23a39cef8",
   "metadata": {},
   "outputs": [],
   "source": [
    "# Define input patterns and output paths\n",
    "input_output_mapping = {\n",
    "    \"/mnt/data-summer-user/data_mod/BAU_V2/GEOSChem.MercuryChem.2015*.nc4\": \n",
    "        \"/home/jovyan/colomb_ige-m2-internship-2025_MERCAMAZON-project/data_mod/BAU/GEOSChem.MercuryEmis.2015_m.nc4\",\n",
    "\n",
    "    \"/mnt/data-summer-user/data_mod/HIST_V2/GEOSChem.MercuryChem.2015*.nc4\": \n",
    "        \"/home/jovyan/colomb_ige-m2-internship-2025_MERCAMAZON-project/data_mod/HIST/GEOSChem.MercuryEmis.2015_m.nc4\",\n",
    "\n",
    "    \"/mnt/data-summer-user/data_mod/BAU_V2/GEOSChem.DryDep.2015*.nc4\": \n",
    "        \"/home/jovyan/colomb_ige-m2-internship-2025_MERCAMAZON-project/data_mod/BAU/GEOSChem.DryDep.2015_m.nc4\",\n",
    "\n",
    "    \"/mnt/data-summer-user/data_mod/HIST_V2/GEOSChem.DryDep.2015*.nc4\": \n",
    "        \"/home/jovyan/colomb_ige-m2-internship-2025_MERCAMAZON-project/data_mod/HIST/GEOSChem.DryDep.2015_m.nc4\",\n",
    "\n",
    "    \"/home/jovyan/colomb_ige-m2-internship-2025_MERCAMAZON-project/data_mod/BAU/GEOSChem.WetLossTotal.2015*.nc4\": \n",
    "        \"/home/jovyan/colomb_ige-m2-internship-2025_MERCAMAZON-project/data_mod/BAU/GEOSChem.WetLossTotal.2015_m.nc4\",\n",
    "\n",
    "    \"/home/jovyan/colomb_ige-m2-internship-2025_MERCAMAZON-project/data_mod/HIST/GEOSChem.WetLossTotal.2015*.nc4\": \n",
    "        \"/home/jovyan/colomb_ige-m2-internship-2025_MERCAMAZON-project/data_mod/HIST/GEOSChem.WetLossTotal.2015_m.nc4\"\n",
    "}\n"
   ]
  },
  {
   "cell_type": "code",
   "execution_count": 12,
   "id": "c8dbdbbb-7923-44da-83cd-144c38cec98c",
   "metadata": {},
   "outputs": [
    {
     "name": "stdout",
     "output_type": "stream",
     "text": [
      "File created: /home/jovyan/colomb_ige-m2-internship-2025_MERCAMAZON-project/data_mod/BAU/GEOSChem.MercuryEmis.2015_m.nc4\n",
      "File created: /home/jovyan/colomb_ige-m2-internship-2025_MERCAMAZON-project/data_mod/HIST/GEOSChem.MercuryEmis.2015_m.nc4\n",
      "File created: /home/jovyan/colomb_ige-m2-internship-2025_MERCAMAZON-project/data_mod/BAU/GEOSChem.DryDep.2015_m.nc4\n",
      "File created: /home/jovyan/colomb_ige-m2-internship-2025_MERCAMAZON-project/data_mod/HIST/GEOSChem.DryDep.2015_m.nc4\n",
      "File created: /home/jovyan/colomb_ige-m2-internship-2025_MERCAMAZON-project/data_mod/BAU/GEOSChem.WetLossTotal.2015_m.nc4\n",
      "File created: /home/jovyan/colomb_ige-m2-internship-2025_MERCAMAZON-project/data_mod/HIST/GEOSChem.WetLossTotal.2015_m.nc4\n"
     ]
    }
   ],
   "source": [
    "# Loop through each dataset type, calculate the average over time, and merge\n",
    "for input_pattern, output_path in input_output_mapping.items():\n",
    "    merge_and_average_nc4_files(input_pattern, output_path)"
   ]
  },
  {
   "cell_type": "code",
   "execution_count": 9,
   "id": "5b27b9d0-b8c9-47a3-9998-15e1a30bf432",
   "metadata": {},
   "outputs": [
    {
     "name": "stdout",
     "output_type": "stream",
     "text": [
      "File created: /home/jovyan/colomb_ige-m2-internship-2025_MERCAMAZON-project/data_mod/BAU/GEOSChem.MercuryEmis.2015_m.nc4\n",
      "File created: /home/jovyan/colomb_ige-m2-internship-2025_MERCAMAZON-project/data_mod/HIST/GEOSChem.MercuryEmis.2015_m.nc4\n",
      "File created: /home/jovyan/colomb_ige-m2-internship-2025_MERCAMAZON-project/data_mod/BAU/GEOSChem.DryDep.2015_m.nc4\n",
      "File created: /home/jovyan/colomb_ige-m2-internship-2025_MERCAMAZON-project/data_mod/HIST/GEOSChem.DryDep.2015_m.nc4\n",
      "File created: /home/jovyan/colomb_ige-m2-internship-2025_MERCAMAZON-project/data_mod/BAU/GEOSChem.WetLossTotal.2015_m.nc4\n",
      "File created: /home/jovyan/colomb_ige-m2-internship-2025_MERCAMAZON-project/data_mod/HIST/GEOSChem.WetLossTotal.2015_m.nc4\n"
     ]
    }
   ],
   "source": []
  }
 ],
 "metadata": {
  "kernelspec": {
   "display_name": "Python 3 (ipykernel)",
   "language": "python",
   "name": "python3"
  },
  "language_info": {
   "codemirror_mode": {
    "name": "ipython",
    "version": 3
   },
   "file_extension": ".py",
   "mimetype": "text/x-python",
   "name": "python",
   "nbconvert_exporter": "python",
   "pygments_lexer": "ipython3",
   "version": "3.12.8"
  }
 },
 "nbformat": 4,
 "nbformat_minor": 5
}
