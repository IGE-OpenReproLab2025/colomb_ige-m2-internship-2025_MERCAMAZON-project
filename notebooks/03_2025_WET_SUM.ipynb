{
 "cells": [
  {
   "cell_type": "code",
   "execution_count": 20,
   "id": "03c2bfdf-884a-4bae-90b0-6a0073a43160",
   "metadata": {},
   "outputs": [],
   "source": [
    "import xarray as xr\n",
    "import glob\n",
    "import os"
   ]
  },
  {
   "cell_type": "code",
   "execution_count": 26,
   "id": "d6ad7820-1d4a-4ed0-9ccc-543e246036ca",
   "metadata": {},
   "outputs": [],
   "source": [
    "# Dossiers BAU\n",
    "input_dir = \"/mnt/data-summer-user/data_mod/BAU_V2\"\n",
    "output_dir = \"/home/jovyan/colomb_ige-m2-internship-2025_MERCAMAZON-project/data_mod/BAU\""
   ]
  },
  {
   "cell_type": "code",
   "execution_count": 27,
   "id": "3127bb9a-1fcd-4669-ade7-fab32dfe18f4",
   "metadata": {},
   "outputs": [
    {
     "name": "stdout",
     "output_type": "stream",
     "text": [
      "Fichier enregistré : /home/jovyan/colomb_ige-m2-internship-2025_MERCAMAZON-project/data_mod/BAU/GEOSChem.WetLossTotal.201501.nc4\n",
      "Fichier enregistré : /home/jovyan/colomb_ige-m2-internship-2025_MERCAMAZON-project/data_mod/BAU/GEOSChem.WetLossTotal.201502.nc4\n",
      "Fichier enregistré : /home/jovyan/colomb_ige-m2-internship-2025_MERCAMAZON-project/data_mod/BAU/GEOSChem.WetLossTotal.201503.nc4\n",
      "Fichier enregistré : /home/jovyan/colomb_ige-m2-internship-2025_MERCAMAZON-project/data_mod/BAU/GEOSChem.WetLossTotal.201504.nc4\n",
      "Fichier enregistré : /home/jovyan/colomb_ige-m2-internship-2025_MERCAMAZON-project/data_mod/BAU/GEOSChem.WetLossTotal.201505.nc4\n",
      "Fichier enregistré : /home/jovyan/colomb_ige-m2-internship-2025_MERCAMAZON-project/data_mod/BAU/GEOSChem.WetLossTotal.201506.nc4\n",
      "Fichier enregistré : /home/jovyan/colomb_ige-m2-internship-2025_MERCAMAZON-project/data_mod/BAU/GEOSChem.WetLossTotal.201507.nc4\n",
      "Fichier enregistré : /home/jovyan/colomb_ige-m2-internship-2025_MERCAMAZON-project/data_mod/BAU/GEOSChem.WetLossTotal.201508.nc4\n",
      "Fichier enregistré : /home/jovyan/colomb_ige-m2-internship-2025_MERCAMAZON-project/data_mod/BAU/GEOSChem.WetLossTotal.201509.nc4\n",
      "Fichier enregistré : /home/jovyan/colomb_ige-m2-internship-2025_MERCAMAZON-project/data_mod/BAU/GEOSChem.WetLossTotal.201510.nc4\n",
      "Fichier enregistré : /home/jovyan/colomb_ige-m2-internship-2025_MERCAMAZON-project/data_mod/BAU/GEOSChem.WetLossTotal.201511.nc4\n",
      "Fichier enregistré : /home/jovyan/colomb_ige-m2-internship-2025_MERCAMAZON-project/data_mod/BAU/GEOSChem.WetLossTotal.201512.nc4\n",
      "Traitement terminé.\n"
     ]
    }
   ],
   "source": [
    "# Boucle sur chaque mois\n",
    "for month in range(1, 13):\n",
    "    month_str = f\"{month:02d}\"  # Format \"01\", \"02\", ..., \"12\"\n",
    "\n",
    "    # Trouver les fichiers pour le mois donné\n",
    "    conv_files = glob.glob(os.path.join(input_dir, f\"GEOSChem.WetLossConv.2015{month_str}*.nc4\"))\n",
    "    ls_files = glob.glob(os.path.join(input_dir, f\"GEOSChem.WetLossLS.2015{month_str}*.nc4\"))\n",
    "\n",
    "    if not conv_files or not ls_files:\n",
    "        print(f\"Fichiers manquants pour 2015-{month_str}, passage au suivant.\")\n",
    "        continue\n",
    "\n",
    "    # Charger les fichiers en supposant qu'il y en a un seul par mois\n",
    "    ds_conv = xr.open_dataset(conv_files[0])\n",
    "    ds_ls = xr.open_dataset(ls_files[0])\n",
    "\n",
    "    # Faire la somme\n",
    "    ds_sum = ds_conv + ds_ls\n",
    "\n",
    "    # Définir le nom du fichier de sortie\n",
    "    output_file = os.path.join(output_dir, f\"GEOSChem.WetLossTotal.2015{month_str}.nc4\")\n",
    "\n",
    "    # Sauvegarder\n",
    "    ds_sum.to_netcdf(output_file)\n",
    "\n",
    "    print(f\"Fichier enregistré : {output_file}\")\n",
    "\n",
    "print(\"Traitement terminé.\")"
   ]
  },
  {
   "cell_type": "code",
   "execution_count": 28,
   "id": "49ae2d7b-738a-422b-9a62-614b808ff6c0",
   "metadata": {},
   "outputs": [],
   "source": [
    "# Dossiers HIST\n",
    "input_dir = \"/mnt/data-summer-user/data_mod/HIST_V2\"\n",
    "output_dir = \"/home/jovyan/colomb_ige-m2-internship-2025_MERCAMAZON-project/data_mod/HIST\""
   ]
  },
  {
   "cell_type": "code",
   "execution_count": 29,
   "id": "94d53d87-be31-470e-8192-30010c8dd435",
   "metadata": {},
   "outputs": [
    {
     "name": "stdout",
     "output_type": "stream",
     "text": [
      "Fichier enregistré : /home/jovyan/colomb_ige-m2-internship-2025_MERCAMAZON-project/data_mod/HIST/GEOSChem.WetLossTotal.201501.nc4\n",
      "Fichier enregistré : /home/jovyan/colomb_ige-m2-internship-2025_MERCAMAZON-project/data_mod/HIST/GEOSChem.WetLossTotal.201502.nc4\n",
      "Fichier enregistré : /home/jovyan/colomb_ige-m2-internship-2025_MERCAMAZON-project/data_mod/HIST/GEOSChem.WetLossTotal.201503.nc4\n",
      "Fichier enregistré : /home/jovyan/colomb_ige-m2-internship-2025_MERCAMAZON-project/data_mod/HIST/GEOSChem.WetLossTotal.201504.nc4\n",
      "Fichier enregistré : /home/jovyan/colomb_ige-m2-internship-2025_MERCAMAZON-project/data_mod/HIST/GEOSChem.WetLossTotal.201505.nc4\n",
      "Fichier enregistré : /home/jovyan/colomb_ige-m2-internship-2025_MERCAMAZON-project/data_mod/HIST/GEOSChem.WetLossTotal.201506.nc4\n",
      "Fichier enregistré : /home/jovyan/colomb_ige-m2-internship-2025_MERCAMAZON-project/data_mod/HIST/GEOSChem.WetLossTotal.201507.nc4\n",
      "Fichier enregistré : /home/jovyan/colomb_ige-m2-internship-2025_MERCAMAZON-project/data_mod/HIST/GEOSChem.WetLossTotal.201508.nc4\n",
      "Fichier enregistré : /home/jovyan/colomb_ige-m2-internship-2025_MERCAMAZON-project/data_mod/HIST/GEOSChem.WetLossTotal.201509.nc4\n",
      "Fichier enregistré : /home/jovyan/colomb_ige-m2-internship-2025_MERCAMAZON-project/data_mod/HIST/GEOSChem.WetLossTotal.201510.nc4\n",
      "Fichier enregistré : /home/jovyan/colomb_ige-m2-internship-2025_MERCAMAZON-project/data_mod/HIST/GEOSChem.WetLossTotal.201511.nc4\n",
      "Fichier enregistré : /home/jovyan/colomb_ige-m2-internship-2025_MERCAMAZON-project/data_mod/HIST/GEOSChem.WetLossTotal.201512.nc4\n",
      "Traitement terminé.\n"
     ]
    }
   ],
   "source": [
    "# Boucle sur chaque mois\n",
    "for month in range(1, 13):\n",
    "    month_str = f\"{month:02d}\"  # Format \"01\", \"02\", ..., \"12\"\n",
    "\n",
    "    # Trouver les fichiers pour le mois donné\n",
    "    conv_files = glob.glob(os.path.join(input_dir, f\"GEOSChem.WetLossConv.2015{month_str}*.nc4\"))\n",
    "    ls_files = glob.glob(os.path.join(input_dir, f\"GEOSChem.WetLossLS.2015{month_str}*.nc4\"))\n",
    "\n",
    "    if not conv_files or not ls_files:\n",
    "        print(f\"Fichiers manquants pour 2015-{month_str}, passage au suivant.\")\n",
    "        continue\n",
    "\n",
    "    # Charger les fichiers en supposant qu'il y en a un seul par mois\n",
    "    ds_conv = xr.open_dataset(conv_files[0])\n",
    "    ds_ls = xr.open_dataset(ls_files[0])\n",
    "\n",
    "    # Faire la somme\n",
    "    ds_sum = ds_conv + ds_ls\n",
    "\n",
    "    # Définir le nom du fichier de sortie\n",
    "    output_file = os.path.join(output_dir, f\"GEOSChem.WetLossTotal.2015{month_str}.nc4\")\n",
    "\n",
    "    # Sauvegarder\n",
    "    ds_sum.to_netcdf(output_file)\n",
    "\n",
    "    print(f\"Fichier enregistré : {output_file}\")\n",
    "\n",
    "print(\"Traitement terminé.\")"
   ]
  }
 ],
 "metadata": {
  "kernelspec": {
   "display_name": "Python 3 (ipykernel)",
   "language": "python",
   "name": "python3"
  },
  "language_info": {
   "codemirror_mode": {
    "name": "ipython",
    "version": 3
   },
   "file_extension": ".py",
   "mimetype": "text/x-python",
   "name": "python",
   "nbconvert_exporter": "python",
   "pygments_lexer": "ipython3",
   "version": "3.12.8"
  }
 },
 "nbformat": 4,
 "nbformat_minor": 5
}
